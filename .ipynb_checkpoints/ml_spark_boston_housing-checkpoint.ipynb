{
 "cells": [
  {
   "cell_type": "code",
   "execution_count": 1,
   "metadata": {},
   "outputs": [],
   "source": [
    "from pyspark.sql import functions as F"
   ]
  },
  {
   "cell_type": "code",
   "execution_count": 2,
   "metadata": {},
   "outputs": [],
   "source": [
    "df = spark.read.options(header=True,inferSchema=True)\\\n",
    "            .csv(\"hdfs://localhost:9000/user/local/hadoop_tmp/hdfs/data/boston/housing.csv\")"
   ]
  },
  {
   "cell_type": "code",
   "execution_count": 3,
   "metadata": {},
   "outputs": [],
   "source": [
    "def dfShape(df):\n",
    "    return (df.count(),len(df.columns))"
   ]
  },
  {
   "cell_type": "code",
   "execution_count": 4,
   "metadata": {},
   "outputs": [
    {
     "data": {
      "text/plain": [
       "(489, 4)"
      ]
     },
     "execution_count": 4,
     "metadata": {},
     "output_type": "execute_result"
    }
   ],
   "source": [
    "dfShape(df)"
   ]
  },
  {
   "cell_type": "code",
   "execution_count": 5,
   "metadata": {},
   "outputs": [
    {
     "name": "stdout",
     "output_type": "stream",
     "text": [
      "+-----+-----+-------+--------+\n",
      "|   RM|LSTAT|PTRATIO|    MEDV|\n",
      "+-----+-----+-------+--------+\n",
      "|6.575| 4.98|   15.3|504000.0|\n",
      "|6.421| 9.14|   17.8|453600.0|\n",
      "|7.185| 4.03|   17.8|728700.0|\n",
      "|6.998| 2.94|   18.7|701400.0|\n",
      "|7.147| 5.33|   18.7|760200.0|\n",
      "+-----+-----+-------+--------+\n",
      "only showing top 5 rows\n",
      "\n"
     ]
    }
   ],
   "source": [
    "df.show(5)"
   ]
  },
  {
   "cell_type": "code",
   "execution_count": 6,
   "metadata": {},
   "outputs": [
    {
     "name": "stdout",
     "output_type": "stream",
     "text": [
      "+-------+-----------------+\n",
      "|summary|             MEDV|\n",
      "+-------+-----------------+\n",
      "|  count|              489|\n",
      "|   mean|454342.9447852761|\n",
      "| stddev|165340.2776526678|\n",
      "|    min|         105000.0|\n",
      "|    max|        1024800.0|\n",
      "+-------+-----------------+\n",
      "\n"
     ]
    }
   ],
   "source": [
    "df.describe(['MEDV']).show()\n",
    "#labels.agg(F.mean(labels['MEDV']),F.min(labels['MEDV']),F.max(labels['MEDV'])).show()"
   ]
  },
  {
   "cell_type": "code",
   "execution_count": 7,
   "metadata": {},
   "outputs": [
    {
     "data": {
      "text/html": [
       "<div>\n",
       "<style scoped>\n",
       "    .dataframe tbody tr th:only-of-type {\n",
       "        vertical-align: middle;\n",
       "    }\n",
       "\n",
       "    .dataframe tbody tr th {\n",
       "        vertical-align: top;\n",
       "    }\n",
       "\n",
       "    .dataframe thead th {\n",
       "        text-align: right;\n",
       "    }\n",
       "</style>\n",
       "<table border=\"1\" class=\"dataframe\">\n",
       "  <thead>\n",
       "    <tr style=\"text-align: right;\">\n",
       "      <th></th>\n",
       "      <th>summary</th>\n",
       "      <th>RM</th>\n",
       "      <th>LSTAT</th>\n",
       "      <th>PTRATIO</th>\n",
       "      <th>MEDV</th>\n",
       "    </tr>\n",
       "  </thead>\n",
       "  <tbody>\n",
       "    <tr>\n",
       "      <th>0</th>\n",
       "      <td>count</td>\n",
       "      <td>489</td>\n",
       "      <td>489</td>\n",
       "      <td>489</td>\n",
       "      <td>489</td>\n",
       "    </tr>\n",
       "    <tr>\n",
       "      <th>1</th>\n",
       "      <td>mean</td>\n",
       "      <td>6.240288343558291</td>\n",
       "      <td>12.939631901840492</td>\n",
       "      <td>18.51656441717792</td>\n",
       "      <td>454342.9447852761</td>\n",
       "    </tr>\n",
       "    <tr>\n",
       "      <th>2</th>\n",
       "      <td>stddev</td>\n",
       "      <td>0.6436497627572434</td>\n",
       "      <td>7.0819897890651315</td>\n",
       "      <td>2.111267502630993</td>\n",
       "      <td>165340.2776526678</td>\n",
       "    </tr>\n",
       "    <tr>\n",
       "      <th>3</th>\n",
       "      <td>min</td>\n",
       "      <td>3.561</td>\n",
       "      <td>1.98</td>\n",
       "      <td>12.6</td>\n",
       "      <td>105000.0</td>\n",
       "    </tr>\n",
       "    <tr>\n",
       "      <th>4</th>\n",
       "      <td>max</td>\n",
       "      <td>8.398</td>\n",
       "      <td>37.97</td>\n",
       "      <td>22.0</td>\n",
       "      <td>1024800.0</td>\n",
       "    </tr>\n",
       "  </tbody>\n",
       "</table>\n",
       "</div>"
      ],
      "text/plain": [
       "  summary                  RM               LSTAT            PTRATIO  \\\n",
       "0   count                 489                 489                489   \n",
       "1    mean   6.240288343558291  12.939631901840492  18.51656441717792   \n",
       "2  stddev  0.6436497627572434  7.0819897890651315  2.111267502630993   \n",
       "3     min               3.561                1.98               12.6   \n",
       "4     max               8.398               37.97               22.0   \n",
       "\n",
       "                MEDV  \n",
       "0                489  \n",
       "1  454342.9447852761  \n",
       "2  165340.2776526678  \n",
       "3           105000.0  \n",
       "4          1024800.0  "
      ]
     },
     "execution_count": 7,
     "metadata": {},
     "output_type": "execute_result"
    }
   ],
   "source": [
    "df.describe().toPandas()"
   ]
  },
  {
   "cell_type": "markdown",
   "metadata": {},
   "source": [
    "### Correlation between colums"
   ]
  },
  {
   "cell_type": "code",
   "execution_count": 8,
   "metadata": {},
   "outputs": [
    {
     "name": "stdout",
     "output_type": "stream",
     "text": [
      "Correlation to MEDV for  RM 0.6972092210185153\n",
      "Correlation to MEDV for  LSTAT -0.7606700599726771\n",
      "Correlation to MEDV for  PTRATIO -0.5190335035317891\n",
      "Correlation to MEDV for  MEDV 1.0\n"
     ]
    }
   ],
   "source": [
    "import six\n",
    "for i in df.columns:\n",
    "    if not( isinstance(df.select(i).take(1)[0][0], six.string_types)):\n",
    "        print( \"Correlation to MEDV for \", i, df.stat.corr('MEDV',i))"
   ]
  },
  {
   "cell_type": "code",
   "execution_count": 9,
   "metadata": {},
   "outputs": [
    {
     "name": "stdout",
     "output_type": "stream",
     "text": [
      "+-----------------+--------+\n",
      "|         features|    MEDV|\n",
      "+-----------------+--------+\n",
      "|[6.575,15.3,4.98]|504000.0|\n",
      "|[6.421,17.8,9.14]|453600.0|\n",
      "|[7.185,17.8,4.03]|728700.0|\n",
      "+-----------------+--------+\n",
      "only showing top 3 rows\n",
      "\n"
     ]
    }
   ],
   "source": [
    "from pyspark.ml.feature import VectorAssembler\n",
    "\n",
    "vectorAssembler = VectorAssembler(inputCols = ['RM', 'PTRATIO','LSTAT'], outputCol = 'features')\n",
    "vhouse_df = vectorAssembler.transform(df)\n",
    "vhouse_df = vhouse_df.select(['features', 'MEDV'])\n",
    "vhouse_df.show(3)"
   ]
  },
  {
   "cell_type": "markdown",
   "metadata": {},
   "source": [
    "### Split Test Train & Grid Search"
   ]
  },
  {
   "cell_type": "code",
   "execution_count": 79,
   "metadata": {},
   "outputs": [],
   "source": [
    "from pyspark.ml.regression import LinearRegression\n",
    "from pyspark.ml.evaluation import RegressionEvaluator\n",
    "from pyspark.ml.tuning import ParamGridBuilder, TrainValidationSplit , CrossValidator"
   ]
  },
  {
   "cell_type": "code",
   "execution_count": 73,
   "metadata": {},
   "outputs": [],
   "source": [
    "regParam = [x / 100.0 for x in range(1, 11)]"
   ]
  },
  {
   "cell_type": "code",
   "execution_count": 17,
   "metadata": {},
   "outputs": [],
   "source": [
    "train_df, test_df = vhouse_df.randomSplit([0.8, 0.2], seed=12345)"
   ]
  },
  {
   "cell_type": "code",
   "execution_count": 75,
   "metadata": {},
   "outputs": [],
   "source": [
    "lr = LinearRegression(featuresCol = 'features', labelCol='MEDV')"
   ]
  },
  {
   "cell_type": "code",
   "execution_count": 74,
   "metadata": {},
   "outputs": [],
   "source": [
    "paramGrid = ParamGridBuilder()\\\n",
    "    .addGrid(lr.maxIter, [10,50,100]) \\\n",
    "    .addGrid(lr.regParam, regParam) \\\n",
    "    .addGrid(lr.fitIntercept, [False, True])\\\n",
    "    .addGrid(lr.elasticNetParam, [0.0, 0.5, 1.0])\\\n",
    "    .build()"
   ]
  },
  {
   "cell_type": "code",
   "execution_count": 76,
   "metadata": {},
   "outputs": [],
   "source": [
    "tvs = TrainValidationSplit(estimator=lr,\n",
    "                           estimatorParamMaps=paramGrid,\n",
    "                           evaluator=RegressionEvaluator(predictionCol=\"prediction\", \\\n",
    "                                 labelCol=\"MEDV\",metricName=\"r2\"),\n",
    "                           # 80% of the data will be used for training, 20% for validation.\n",
    "                           trainRatio=0.8)"
   ]
  },
  {
   "cell_type": "code",
   "execution_count": 80,
   "metadata": {},
   "outputs": [],
   "source": [
    "cv = CrossValidator(estimator=lr,\n",
    "                           estimatorParamMaps=paramGrid,\n",
    "                           evaluator=RegressionEvaluator(predictionCol=\"prediction\", \\\n",
    "                                 labelCol=\"MEDV\",metricName=\"r2\"),\n",
    "                           # 80% of the data will be used for training, 20% for validation.\n",
    "                           numFolds=4)"
   ]
  },
  {
   "cell_type": "code",
   "execution_count": 91,
   "metadata": {},
   "outputs": [],
   "source": [
    "model_cv = cv.fit(train_df)\n",
    "model_tvs = tvs.fit(train_df)"
   ]
  },
  {
   "cell_type": "code",
   "execution_count": 93,
   "metadata": {},
   "outputs": [
    {
     "data": {
      "text/plain": [
       "[0.5131185182409854,\n",
       " 0.5131185182409854,\n",
       " 0.5131185182409854,\n",
       " 0.5131185182409854,\n",
       " 0.5131185182409854,\n",
       " 0.5131185182409854,\n",
       " 0.5131185182409854,\n",
       " 0.5131185182409854,\n",
       " 0.5131185182409854,\n",
       " 0.5131185182409854,\n",
       " 0.5131185182409854,\n",
       " 0.5131185182409854,\n",
       " 0.5131185182409854,\n",
       " 0.5131185182409854,\n",
       " 0.5131185182409854,\n",
       " 0.5131185182409854,\n",
       " 0.5131185182409854,\n",
       " 0.5131185182409854,\n",
       " 0.5131185182409854,\n",
       " 0.5131185182409854,\n",
       " 0.5131185182409854,\n",
       " 0.5131185182409854,\n",
       " 0.5131185182409854,\n",
       " 0.5131185182409854,\n",
       " 0.5131185182409854,\n",
       " 0.5131185182409854,\n",
       " 0.5131185182409854,\n",
       " 0.5131185182409854,\n",
       " 0.5131185182409854,\n",
       " 0.5131185182409854,\n",
       " 0.5131185182409854,\n",
       " 0.5131185182409854,\n",
       " 0.5131185182409854,\n",
       " 0.5131185182409854,\n",
       " 0.5131185182409854,\n",
       " 0.5131185182409854,\n",
       " 0.5131185182409854,\n",
       " 0.5131185182409854,\n",
       " 0.5131185182409854,\n",
       " 0.5131185182409854,\n",
       " 0.5131185182409854,\n",
       " 0.5131185182409854,\n",
       " 0.5131185182409854,\n",
       " 0.5131185182409854,\n",
       " 0.5131185182409854,\n",
       " 0.5131185182409854,\n",
       " 0.5131185182409854,\n",
       " 0.5131185182409854,\n",
       " 0.5131185182409854,\n",
       " 0.5131185182409854,\n",
       " 0.5131185182409854,\n",
       " 0.5131185182409854,\n",
       " 0.5131185182409854,\n",
       " 0.5131185182409854,\n",
       " 0.5131185182409854,\n",
       " 0.5131185182409854,\n",
       " 0.5131185182409854,\n",
       " 0.5131185182409854,\n",
       " 0.5131185182409854,\n",
       " 0.5131185182409854,\n",
       " 0.5131185182409854,\n",
       " 0.5131185182409854,\n",
       " 0.5131185182409854,\n",
       " 0.5131185182409854,\n",
       " 0.5131185182409854,\n",
       " 0.5131185182409854,\n",
       " 0.5131185182409854,\n",
       " 0.5131185182409854,\n",
       " 0.5131185182409854,\n",
       " 0.5131185182409854,\n",
       " 0.5131185182409854,\n",
       " 0.5131185182409854,\n",
       " 0.5131185182409854,\n",
       " 0.5131185182409854,\n",
       " 0.5131185182409854,\n",
       " 0.5131185182409854,\n",
       " 0.5131185182409854,\n",
       " 0.5131185182409854,\n",
       " 0.5131185182409854,\n",
       " 0.5131185182409854,\n",
       " 0.5131185182409854,\n",
       " 0.5131185182409854,\n",
       " 0.5131185182409854,\n",
       " 0.5131185182409854,\n",
       " 0.5131185182409854,\n",
       " 0.5131185182409854,\n",
       " 0.5131185182409854,\n",
       " 0.5131185182409854,\n",
       " 0.5131185182409854,\n",
       " 0.5131185182409854,\n",
       " 0.5131185182409854,\n",
       " 0.5131185182409854,\n",
       " 0.5131185182409854,\n",
       " 0.5131185182409854,\n",
       " 0.5131185182409854,\n",
       " 0.5131185182409854,\n",
       " 0.5131185182409854,\n",
       " 0.5131185182409854,\n",
       " 0.5131185182409854,\n",
       " 0.5131185182409854,\n",
       " 0.5131185182409854,\n",
       " 0.5131185182409854,\n",
       " 0.5131185182409854,\n",
       " 0.5131185182409854,\n",
       " 0.5131185182409854,\n",
       " 0.5131185182409854,\n",
       " 0.5131185182409854,\n",
       " 0.5131185182409854,\n",
       " 0.5131185182409854,\n",
       " 0.5131185182409854,\n",
       " 0.5131185182409854,\n",
       " 0.5131185182409854,\n",
       " 0.5131185182409854,\n",
       " 0.5131185182409854,\n",
       " 0.5131185182409854,\n",
       " 0.5131185182409854,\n",
       " 0.5131185182409854,\n",
       " 0.5131185182409854,\n",
       " 0.5131185182409854,\n",
       " 0.5131185182409854,\n",
       " 0.5131185182409854,\n",
       " 0.5131185182409854,\n",
       " 0.5131185182409854,\n",
       " 0.5131185182409854,\n",
       " 0.5131185182409854,\n",
       " 0.5131185182409854,\n",
       " 0.5131185182409854,\n",
       " 0.5131185182409854,\n",
       " 0.5131185182409854,\n",
       " 0.5131185182409854,\n",
       " 0.5131185182409854,\n",
       " 0.5131185182409854,\n",
       " 0.5131185182409854,\n",
       " 0.5131185182409854,\n",
       " 0.5131185182409854,\n",
       " 0.5131185182409854,\n",
       " 0.5131185182409854,\n",
       " 0.5131185182409854,\n",
       " 0.5131185182409854,\n",
       " 0.5131185182409854,\n",
       " 0.5131185182409854,\n",
       " 0.5131185182409854,\n",
       " 0.5131185182409854,\n",
       " 0.5131185182409854,\n",
       " 0.5131185182409854,\n",
       " 0.5131185182409854,\n",
       " 0.5131185182409854,\n",
       " 0.5131185182409854,\n",
       " 0.5131185182409854,\n",
       " 0.5131185182409854,\n",
       " 0.5131185182409854,\n",
       " 0.5131185182409854,\n",
       " 0.5131185182409854,\n",
       " 0.5131185182409854,\n",
       " 0.5131185182409854,\n",
       " 0.5131185182409854,\n",
       " 0.5131185182409854,\n",
       " 0.5131185182409854,\n",
       " 0.5131185182409854,\n",
       " 0.5131185182409854,\n",
       " 0.5131185182409854,\n",
       " 0.5131185182409854,\n",
       " 0.5131185182409854,\n",
       " 0.5131185182409854,\n",
       " 0.5131185182409854,\n",
       " 0.5131185182409854,\n",
       " 0.5131185182409854,\n",
       " 0.5131185182409854,\n",
       " 0.5131185182409854,\n",
       " 0.5131185182409854,\n",
       " 0.5131185182409854,\n",
       " 0.5131185182409854,\n",
       " 0.5131185182409854,\n",
       " 0.5131185182409854,\n",
       " 0.5131185182409854,\n",
       " 0.5131185182409854,\n",
       " 0.5131185182409854,\n",
       " 0.5131185182409854,\n",
       " 0.5131185182409854,\n",
       " 0.5131185182409854]"
      ]
     },
     "execution_count": 93,
     "metadata": {},
     "output_type": "execute_result"
    }
   ],
   "source": [
    "model_tvs.validationMetrics"
   ]
  },
  {
   "cell_type": "code",
   "execution_count": 92,
   "metadata": {},
   "outputs": [
    {
     "data": {
      "text/plain": [
       "[0.6939121324710533,\n",
       " 0.6939121324710533,\n",
       " 0.6939121324710533,\n",
       " 0.6939121324710533,\n",
       " 0.6939121324710533,\n",
       " 0.6939121324710533,\n",
       " 0.6939121324710533,\n",
       " 0.6939121324710533,\n",
       " 0.6939121324710533,\n",
       " 0.6939121324710533,\n",
       " 0.6939121324710533,\n",
       " 0.6939121324710533,\n",
       " 0.6939121324710533,\n",
       " 0.6939121324710533,\n",
       " 0.6939121324710533,\n",
       " 0.6939121324710533,\n",
       " 0.6939121324710533,\n",
       " 0.6939121324710533,\n",
       " 0.6939121324710533,\n",
       " 0.6939121324710533,\n",
       " 0.6939121324710533,\n",
       " 0.6939121324710533,\n",
       " 0.6939121324710533,\n",
       " 0.6939121324710533,\n",
       " 0.6939121324710533,\n",
       " 0.6939121324710533,\n",
       " 0.6939121324710533,\n",
       " 0.6939121324710533,\n",
       " 0.6939121324710533,\n",
       " 0.6939121324710533,\n",
       " 0.6939121324710533,\n",
       " 0.6939121324710533,\n",
       " 0.6939121324710533,\n",
       " 0.6939121324710533,\n",
       " 0.6939121324710533,\n",
       " 0.6939121324710533,\n",
       " 0.6939121324710533,\n",
       " 0.6939121324710533,\n",
       " 0.6939121324710533,\n",
       " 0.6939121324710533,\n",
       " 0.6939121324710533,\n",
       " 0.6939121324710533,\n",
       " 0.6939121324710533,\n",
       " 0.6939121324710533,\n",
       " 0.6939121324710533,\n",
       " 0.6939121324710533,\n",
       " 0.6939121324710533,\n",
       " 0.6939121324710533,\n",
       " 0.6939121324710533,\n",
       " 0.6939121324710533,\n",
       " 0.6939121324710533,\n",
       " 0.6939121324710533,\n",
       " 0.6939121324710533,\n",
       " 0.6939121324710533,\n",
       " 0.6939121324710533,\n",
       " 0.6939121324710533,\n",
       " 0.6939121324710533,\n",
       " 0.6939121324710533,\n",
       " 0.6939121324710533,\n",
       " 0.6939121324710533,\n",
       " 0.6939121324710533,\n",
       " 0.6939121324710533,\n",
       " 0.6939121324710533,\n",
       " 0.6939121324710533,\n",
       " 0.6939121324710533,\n",
       " 0.6939121324710533,\n",
       " 0.6939121324710533,\n",
       " 0.6939121324710533,\n",
       " 0.6939121324710533,\n",
       " 0.6939121324710533,\n",
       " 0.6939121324710533,\n",
       " 0.6939121324710533,\n",
       " 0.6939121324710533,\n",
       " 0.6939121324710533,\n",
       " 0.6939121324710533,\n",
       " 0.6939121324710533,\n",
       " 0.6939121324710533,\n",
       " 0.6939121324710533,\n",
       " 0.6939121324710533,\n",
       " 0.6939121324710533,\n",
       " 0.6939121324710533,\n",
       " 0.6939121324710533,\n",
       " 0.6939121324710533,\n",
       " 0.6939121324710533,\n",
       " 0.6939121324710533,\n",
       " 0.6939121324710533,\n",
       " 0.6939121324710533,\n",
       " 0.6939121324710533,\n",
       " 0.6939121324710533,\n",
       " 0.6939121324710533,\n",
       " 0.6939121324710533,\n",
       " 0.6939121324710533,\n",
       " 0.6939121324710533,\n",
       " 0.6939121324710533,\n",
       " 0.6939121324710533,\n",
       " 0.6939121324710533,\n",
       " 0.6939121324710533,\n",
       " 0.6939121324710533,\n",
       " 0.6939121324710533,\n",
       " 0.6939121324710533,\n",
       " 0.6939121324710533,\n",
       " 0.6939121324710533,\n",
       " 0.6939121324710533,\n",
       " 0.6939121324710533,\n",
       " 0.6939121324710533,\n",
       " 0.6939121324710533,\n",
       " 0.6939121324710533,\n",
       " 0.6939121324710533,\n",
       " 0.6939121324710533,\n",
       " 0.6939121324710533,\n",
       " 0.6939121324710533,\n",
       " 0.6939121324710533,\n",
       " 0.6939121324710533,\n",
       " 0.6939121324710533,\n",
       " 0.6939121324710533,\n",
       " 0.6939121324710533,\n",
       " 0.6939121324710533,\n",
       " 0.6939121324710533,\n",
       " 0.6939121324710533,\n",
       " 0.6939121324710533,\n",
       " 0.6939121324710533,\n",
       " 0.6939121324710533,\n",
       " 0.6939121324710533,\n",
       " 0.6939121324710533,\n",
       " 0.6939121324710533,\n",
       " 0.6939121324710533,\n",
       " 0.6939121324710533,\n",
       " 0.6939121324710533,\n",
       " 0.6939121324710533,\n",
       " 0.6939121324710533,\n",
       " 0.6939121324710533,\n",
       " 0.6939121324710533,\n",
       " 0.6939121324710533,\n",
       " 0.6939121324710533,\n",
       " 0.6939121324710533,\n",
       " 0.6939121324710533,\n",
       " 0.6939121324710533,\n",
       " 0.6939121324710533,\n",
       " 0.6939121324710533,\n",
       " 0.6939121324710533,\n",
       " 0.6939121324710533,\n",
       " 0.6939121324710533,\n",
       " 0.6939121324710533,\n",
       " 0.6939121324710533,\n",
       " 0.6939121324710533,\n",
       " 0.6939121324710533,\n",
       " 0.6939121324710533,\n",
       " 0.6939121324710533,\n",
       " 0.6939121324710533,\n",
       " 0.6939121324710533,\n",
       " 0.6939121324710533,\n",
       " 0.6939121324710533,\n",
       " 0.6939121324710533,\n",
       " 0.6939121324710533,\n",
       " 0.6939121324710533,\n",
       " 0.6939121324710533,\n",
       " 0.6939121324710533,\n",
       " 0.6939121324710533,\n",
       " 0.6939121324710533,\n",
       " 0.6939121324710533,\n",
       " 0.6939121324710533,\n",
       " 0.6939121324710533,\n",
       " 0.6939121324710533,\n",
       " 0.6939121324710533,\n",
       " 0.6939121324710533,\n",
       " 0.6939121324710533,\n",
       " 0.6939121324710533,\n",
       " 0.6939121324710533,\n",
       " 0.6939121324710533,\n",
       " 0.6939121324710533,\n",
       " 0.6939121324710533,\n",
       " 0.6939121324710533,\n",
       " 0.6939121324710533,\n",
       " 0.6939121324710533,\n",
       " 0.6939121324710533,\n",
       " 0.6939121324710533,\n",
       " 0.6939121324710533,\n",
       " 0.6939121324710533,\n",
       " 0.6939121324710533,\n",
       " 0.6939121324710533]"
      ]
     },
     "execution_count": 92,
     "metadata": {},
     "output_type": "execute_result"
    }
   ],
   "source": [
    "model_cv.avgMetrics"
   ]
  },
  {
   "cell_type": "code",
   "execution_count": 90,
   "metadata": {},
   "outputs": [
    {
     "name": "stdout",
     "output_type": "stream",
     "text": [
      "+------------------+--------+------------------+\n",
      "|          features|    MEDV|        prediction|\n",
      "+------------------+--------+------------------+\n",
      "|[4.368,20.2,30.63]|184800.0| 76918.89830818563|\n",
      "|[4.652,20.2,28.28]|220500.0|125304.03720786475|\n",
      "| [4.88,20.2,30.62]|214200.0|117127.08996457863|\n",
      "|[5.012,14.7,12.12]|321300.0| 447978.3960759249|\n",
      "|[5.019,21.2,34.41]|302400.0|64994.227507203934|\n",
      "|[5.036,20.2,25.68]|203700.0| 184301.8723585916|\n",
      "|[5.414,20.1,23.97]|147000.0|235013.98892759974|\n",
      "|[5.468,14.7,26.42]|327600.0| 324601.5232483241|\n",
      "|[5.531,20.2,27.38]|178500.0|204154.88523820415|\n",
      "|[5.597,14.7,21.45]|323400.0| 389995.5700026052|\n",
      "|[5.608,20.2,12.13]|585900.0|379842.09756461263|\n",
      "|[5.682,17.9,10.21]|405300.0| 454963.0731951903|\n",
      "|[5.707,19.2,12.01]|457800.0|409784.84002832876|\n",
      "|[5.709,14.7,15.79]|407400.0| 461734.5573167448|\n",
      "|[5.713,20.2,17.11]|317100.0| 332662.3554522417|\n",
      "|[5.731,17.8,13.61]|405300.0| 423060.7684083177|\n",
      "|[5.741,19.7,13.15]|392700.0|389337.66233480664|\n",
      "|[5.786,17.9,14.15]|420000.0|419275.06845716137|\n",
      "|[5.807,18.6,16.03]|470400.0| 385406.3441685687|\n",
      "|[5.841,19.2,11.41]|420000.0|426953.99118148675|\n",
      "+------------------+--------+------------------+\n",
      "only showing top 20 rows\n",
      "\n"
     ]
    }
   ],
   "source": [
    "model.transform(test_df)\\\n",
    "    .select(\"features\", \"MEDV\", \"prediction\")\\\n",
    "    .show()"
   ]
  },
  {
   "cell_type": "code",
   "execution_count": 89,
   "metadata": {},
   "outputs": [
    {
     "ename": "AttributeError",
     "evalue": "'LinearRegressionModel' object has no attribute 'avgMetrics'",
     "output_type": "error",
     "traceback": [
      "\u001b[0;31m---------------------------------------------------------------------------\u001b[0m",
      "\u001b[0;31mAttributeError\u001b[0m                            Traceback (most recent call last)",
      "\u001b[0;32m<ipython-input-89-478ef2f33447>\u001b[0m in \u001b[0;36m<module>\u001b[0;34m()\u001b[0m\n\u001b[0;32m----> 1\u001b[0;31m \u001b[0mmodel\u001b[0m\u001b[0;34m.\u001b[0m\u001b[0mavgMetrics\u001b[0m\u001b[0;34m\u001b[0m\u001b[0m\n\u001b[0m",
      "\u001b[0;31mAttributeError\u001b[0m: 'LinearRegressionModel' object has no attribute 'avgMetrics'"
     ]
    }
   ],
   "source": [
    "model_cv.avgMetrics"
   ]
  },
  {
   "cell_type": "code",
   "execution_count": 28,
   "metadata": {},
   "outputs": [
    {
     "data": {
      "text/plain": [
       "{Param(parent='TrainValidationSplit_43e1a6b40849e3569f76', name='estimator', doc='estimator to be cross-validated'): LinearRegression_4e8a873151d9c76152e0,\n",
       " Param(parent='TrainValidationSplit_43e1a6b40849e3569f76', name='estimatorParamMaps', doc='estimator param maps'): [{Param(parent='LinearRegression_4e8a873151d9c76152e0', name='elasticNetParam', doc='the ElasticNet mixing parameter, in range [0, 1]. For alpha = 0, the penalty is an L2 penalty. For alpha = 1, it is an L1 penalty.'): 0.0,\n",
       "   Param(parent='LinearRegression_4e8a873151d9c76152e0', name='fitIntercept', doc='whether to fit an intercept term.'): False,\n",
       "   Param(parent='LinearRegression_4e8a873151d9c76152e0', name='regParam', doc='regularization parameter (>= 0).'): 0.1},\n",
       "  {Param(parent='LinearRegression_4e8a873151d9c76152e0', name='elasticNetParam', doc='the ElasticNet mixing parameter, in range [0, 1]. For alpha = 0, the penalty is an L2 penalty. For alpha = 1, it is an L1 penalty.'): 0.5,\n",
       "   Param(parent='LinearRegression_4e8a873151d9c76152e0', name='fitIntercept', doc='whether to fit an intercept term.'): False,\n",
       "   Param(parent='LinearRegression_4e8a873151d9c76152e0', name='regParam', doc='regularization parameter (>= 0).'): 0.1},\n",
       "  {Param(parent='LinearRegression_4e8a873151d9c76152e0', name='elasticNetParam', doc='the ElasticNet mixing parameter, in range [0, 1]. For alpha = 0, the penalty is an L2 penalty. For alpha = 1, it is an L1 penalty.'): 1.0,\n",
       "   Param(parent='LinearRegression_4e8a873151d9c76152e0', name='fitIntercept', doc='whether to fit an intercept term.'): False,\n",
       "   Param(parent='LinearRegression_4e8a873151d9c76152e0', name='regParam', doc='regularization parameter (>= 0).'): 0.1},\n",
       "  {Param(parent='LinearRegression_4e8a873151d9c76152e0', name='elasticNetParam', doc='the ElasticNet mixing parameter, in range [0, 1]. For alpha = 0, the penalty is an L2 penalty. For alpha = 1, it is an L1 penalty.'): 0.0,\n",
       "   Param(parent='LinearRegression_4e8a873151d9c76152e0', name='fitIntercept', doc='whether to fit an intercept term.'): True,\n",
       "   Param(parent='LinearRegression_4e8a873151d9c76152e0', name='regParam', doc='regularization parameter (>= 0).'): 0.1},\n",
       "  {Param(parent='LinearRegression_4e8a873151d9c76152e0', name='elasticNetParam', doc='the ElasticNet mixing parameter, in range [0, 1]. For alpha = 0, the penalty is an L2 penalty. For alpha = 1, it is an L1 penalty.'): 0.5,\n",
       "   Param(parent='LinearRegression_4e8a873151d9c76152e0', name='fitIntercept', doc='whether to fit an intercept term.'): True,\n",
       "   Param(parent='LinearRegression_4e8a873151d9c76152e0', name='regParam', doc='regularization parameter (>= 0).'): 0.1},\n",
       "  {Param(parent='LinearRegression_4e8a873151d9c76152e0', name='elasticNetParam', doc='the ElasticNet mixing parameter, in range [0, 1]. For alpha = 0, the penalty is an L2 penalty. For alpha = 1, it is an L1 penalty.'): 1.0,\n",
       "   Param(parent='LinearRegression_4e8a873151d9c76152e0', name='fitIntercept', doc='whether to fit an intercept term.'): True,\n",
       "   Param(parent='LinearRegression_4e8a873151d9c76152e0', name='regParam', doc='regularization parameter (>= 0).'): 0.1},\n",
       "  {Param(parent='LinearRegression_4e8a873151d9c76152e0', name='elasticNetParam', doc='the ElasticNet mixing parameter, in range [0, 1]. For alpha = 0, the penalty is an L2 penalty. For alpha = 1, it is an L1 penalty.'): 0.0,\n",
       "   Param(parent='LinearRegression_4e8a873151d9c76152e0', name='fitIntercept', doc='whether to fit an intercept term.'): False,\n",
       "   Param(parent='LinearRegression_4e8a873151d9c76152e0', name='regParam', doc='regularization parameter (>= 0).'): 0.01},\n",
       "  {Param(parent='LinearRegression_4e8a873151d9c76152e0', name='elasticNetParam', doc='the ElasticNet mixing parameter, in range [0, 1]. For alpha = 0, the penalty is an L2 penalty. For alpha = 1, it is an L1 penalty.'): 0.5,\n",
       "   Param(parent='LinearRegression_4e8a873151d9c76152e0', name='fitIntercept', doc='whether to fit an intercept term.'): False,\n",
       "   Param(parent='LinearRegression_4e8a873151d9c76152e0', name='regParam', doc='regularization parameter (>= 0).'): 0.01},\n",
       "  {Param(parent='LinearRegression_4e8a873151d9c76152e0', name='elasticNetParam', doc='the ElasticNet mixing parameter, in range [0, 1]. For alpha = 0, the penalty is an L2 penalty. For alpha = 1, it is an L1 penalty.'): 1.0,\n",
       "   Param(parent='LinearRegression_4e8a873151d9c76152e0', name='fitIntercept', doc='whether to fit an intercept term.'): False,\n",
       "   Param(parent='LinearRegression_4e8a873151d9c76152e0', name='regParam', doc='regularization parameter (>= 0).'): 0.01},\n",
       "  {Param(parent='LinearRegression_4e8a873151d9c76152e0', name='elasticNetParam', doc='the ElasticNet mixing parameter, in range [0, 1]. For alpha = 0, the penalty is an L2 penalty. For alpha = 1, it is an L1 penalty.'): 0.0,\n",
       "   Param(parent='LinearRegression_4e8a873151d9c76152e0', name='fitIntercept', doc='whether to fit an intercept term.'): True,\n",
       "   Param(parent='LinearRegression_4e8a873151d9c76152e0', name='regParam', doc='regularization parameter (>= 0).'): 0.01},\n",
       "  {Param(parent='LinearRegression_4e8a873151d9c76152e0', name='elasticNetParam', doc='the ElasticNet mixing parameter, in range [0, 1]. For alpha = 0, the penalty is an L2 penalty. For alpha = 1, it is an L1 penalty.'): 0.5,\n",
       "   Param(parent='LinearRegression_4e8a873151d9c76152e0', name='fitIntercept', doc='whether to fit an intercept term.'): True,\n",
       "   Param(parent='LinearRegression_4e8a873151d9c76152e0', name='regParam', doc='regularization parameter (>= 0).'): 0.01},\n",
       "  {Param(parent='LinearRegression_4e8a873151d9c76152e0', name='elasticNetParam', doc='the ElasticNet mixing parameter, in range [0, 1]. For alpha = 0, the penalty is an L2 penalty. For alpha = 1, it is an L1 penalty.'): 1.0,\n",
       "   Param(parent='LinearRegression_4e8a873151d9c76152e0', name='fitIntercept', doc='whether to fit an intercept term.'): True,\n",
       "   Param(parent='LinearRegression_4e8a873151d9c76152e0', name='regParam', doc='regularization parameter (>= 0).'): 0.01}],\n",
       " Param(parent='TrainValidationSplit_43e1a6b40849e3569f76', name='evaluator', doc='evaluator used to select hyper-parameters that maximize the validator metric'): RegressionEvaluator_42b0a07b4fd65b85c7cc,\n",
       " Param(parent='TrainValidationSplit_43e1a6b40849e3569f76', name='parallelism', doc='the number of threads to use when running parallel algorithms (>= 1).'): 1,\n",
       " Param(parent='TrainValidationSplit_43e1a6b40849e3569f76', name='seed', doc='random seed.'): -8807458389991577450,\n",
       " Param(parent='TrainValidationSplit_43e1a6b40849e3569f76', name='trainRatio', doc='Param for ratio between train and     validation data. Must be between 0 and 1.'): 0.8}"
      ]
     },
     "execution_count": 28,
     "metadata": {},
     "output_type": "execute_result"
    }
   ],
   "source": [
    "tvs.extractParamMap()"
   ]
  },
  {
   "cell_type": "markdown",
   "metadata": {},
   "source": [
    "### Linear Regression"
   ]
  },
  {
   "cell_type": "code",
   "execution_count": 22,
   "metadata": {},
   "outputs": [
    {
     "ename": "TypeError",
     "evalue": "Invalid param value given for param \"featuresCol\". Could not convert <class 'list'> to string type",
     "output_type": "error",
     "traceback": [
      "\u001b[0;31m---------------------------------------------------------------------------\u001b[0m",
      "\u001b[0;31mTypeError\u001b[0m                                 Traceback (most recent call last)",
      "\u001b[0;32m/usr/local/spark/python/pyspark/ml/param/__init__.py\u001b[0m in \u001b[0;36m_set\u001b[0;34m(self, **kwargs)\u001b[0m\n\u001b[1;32m    438\u001b[0m                 \u001b[0;32mtry\u001b[0m\u001b[0;34m:\u001b[0m\u001b[0;34m\u001b[0m\u001b[0m\n\u001b[0;32m--> 439\u001b[0;31m                     \u001b[0mvalue\u001b[0m \u001b[0;34m=\u001b[0m \u001b[0mp\u001b[0m\u001b[0;34m.\u001b[0m\u001b[0mtypeConverter\u001b[0m\u001b[0;34m(\u001b[0m\u001b[0mvalue\u001b[0m\u001b[0;34m)\u001b[0m\u001b[0;34m\u001b[0m\u001b[0m\n\u001b[0m\u001b[1;32m    440\u001b[0m                 \u001b[0;32mexcept\u001b[0m \u001b[0mTypeError\u001b[0m \u001b[0;32mas\u001b[0m \u001b[0me\u001b[0m\u001b[0;34m:\u001b[0m\u001b[0;34m\u001b[0m\u001b[0m\n",
      "\u001b[0;32m/usr/local/spark/python/pyspark/ml/param/__init__.py\u001b[0m in \u001b[0;36mtoString\u001b[0;34m(value)\u001b[0m\n\u001b[1;32m    212\u001b[0m         \u001b[0;32melse\u001b[0m\u001b[0;34m:\u001b[0m\u001b[0;34m\u001b[0m\u001b[0m\n\u001b[0;32m--> 213\u001b[0;31m             \u001b[0;32mraise\u001b[0m \u001b[0mTypeError\u001b[0m\u001b[0;34m(\u001b[0m\u001b[0;34m\"Could not convert %s to string type\"\u001b[0m \u001b[0;34m%\u001b[0m \u001b[0mtype\u001b[0m\u001b[0;34m(\u001b[0m\u001b[0mvalue\u001b[0m\u001b[0;34m)\u001b[0m\u001b[0;34m)\u001b[0m\u001b[0;34m\u001b[0m\u001b[0m\n\u001b[0m\u001b[1;32m    214\u001b[0m \u001b[0;34m\u001b[0m\u001b[0m\n",
      "\u001b[0;31mTypeError\u001b[0m: Could not convert <class 'list'> to string type",
      "\nDuring handling of the above exception, another exception occurred:\n",
      "\u001b[0;31mTypeError\u001b[0m                                 Traceback (most recent call last)",
      "\u001b[0;32m<ipython-input-22-63e0c26c7029>\u001b[0m in \u001b[0;36m<module>\u001b[0;34m()\u001b[0m\n\u001b[0;32m----> 1\u001b[0;31m \u001b[0mlr\u001b[0m \u001b[0;34m=\u001b[0m \u001b[0mLinearRegression\u001b[0m\u001b[0;34m(\u001b[0m\u001b[0mfeaturesCol\u001b[0m \u001b[0;34m=\u001b[0m \u001b[0;34m[\u001b[0m\u001b[0;34m'RM'\u001b[0m\u001b[0;34m,\u001b[0m \u001b[0;34m'PTRATIO'\u001b[0m\u001b[0;34m,\u001b[0m\u001b[0;34m'LSTAT'\u001b[0m\u001b[0;34m]\u001b[0m\u001b[0;34m,\u001b[0m \u001b[0mlabelCol\u001b[0m\u001b[0;34m=\u001b[0m\u001b[0;34m'MEDV'\u001b[0m\u001b[0;34m,\u001b[0m \u001b[0mmaxIter\u001b[0m\u001b[0;34m=\u001b[0m\u001b[0;36m10\u001b[0m\u001b[0;34m,\u001b[0m \u001b[0mregParam\u001b[0m\u001b[0;34m=\u001b[0m\u001b[0;36m0.3\u001b[0m\u001b[0;34m,\u001b[0m \u001b[0melasticNetParam\u001b[0m\u001b[0;34m=\u001b[0m\u001b[0;36m0.8\u001b[0m\u001b[0;34m)\u001b[0m\u001b[0;34m\u001b[0m\u001b[0m\n\u001b[0m\u001b[1;32m      2\u001b[0m \u001b[0mlr_model\u001b[0m \u001b[0;34m=\u001b[0m \u001b[0mlr\u001b[0m\u001b[0;34m.\u001b[0m\u001b[0mfit\u001b[0m\u001b[0;34m(\u001b[0m\u001b[0mtrain_df\u001b[0m\u001b[0;34m)\u001b[0m\u001b[0;34m\u001b[0m\u001b[0m\n\u001b[1;32m      3\u001b[0m \u001b[0mprint\u001b[0m\u001b[0;34m(\u001b[0m\u001b[0;34m\"Coefficients: \"\u001b[0m \u001b[0;34m+\u001b[0m \u001b[0mstr\u001b[0m\u001b[0;34m(\u001b[0m\u001b[0mlr_model\u001b[0m\u001b[0;34m.\u001b[0m\u001b[0mcoefficients\u001b[0m\u001b[0;34m)\u001b[0m\u001b[0;34m)\u001b[0m\u001b[0;34m\u001b[0m\u001b[0m\n\u001b[1;32m      4\u001b[0m \u001b[0mprint\u001b[0m\u001b[0;34m(\u001b[0m\u001b[0;34m\"Intercept: \"\u001b[0m \u001b[0;34m+\u001b[0m \u001b[0mstr\u001b[0m\u001b[0;34m(\u001b[0m\u001b[0mlr_model\u001b[0m\u001b[0;34m.\u001b[0m\u001b[0mintercept\u001b[0m\u001b[0;34m)\u001b[0m\u001b[0;34m)\u001b[0m\u001b[0;34m\u001b[0m\u001b[0m\n",
      "\u001b[0;32m/usr/local/spark/python/pyspark/__init__.py\u001b[0m in \u001b[0;36mwrapper\u001b[0;34m(self, *args, **kwargs)\u001b[0m\n\u001b[1;32m    103\u001b[0m             \u001b[0;32mraise\u001b[0m \u001b[0mTypeError\u001b[0m\u001b[0;34m(\u001b[0m\u001b[0;34m\"Method %s forces keyword arguments.\"\u001b[0m \u001b[0;34m%\u001b[0m \u001b[0mfunc\u001b[0m\u001b[0;34m.\u001b[0m\u001b[0m__name__\u001b[0m\u001b[0;34m)\u001b[0m\u001b[0;34m\u001b[0m\u001b[0m\n\u001b[1;32m    104\u001b[0m         \u001b[0mself\u001b[0m\u001b[0;34m.\u001b[0m\u001b[0m_input_kwargs\u001b[0m \u001b[0;34m=\u001b[0m \u001b[0mkwargs\u001b[0m\u001b[0;34m\u001b[0m\u001b[0m\n\u001b[0;32m--> 105\u001b[0;31m         \u001b[0;32mreturn\u001b[0m \u001b[0mfunc\u001b[0m\u001b[0;34m(\u001b[0m\u001b[0mself\u001b[0m\u001b[0;34m,\u001b[0m \u001b[0;34m**\u001b[0m\u001b[0mkwargs\u001b[0m\u001b[0;34m)\u001b[0m\u001b[0;34m\u001b[0m\u001b[0m\n\u001b[0m\u001b[1;32m    106\u001b[0m     \u001b[0;32mreturn\u001b[0m \u001b[0mwrapper\u001b[0m\u001b[0;34m\u001b[0m\u001b[0m\n\u001b[1;32m    107\u001b[0m \u001b[0;34m\u001b[0m\u001b[0m\n",
      "\u001b[0;32m/usr/local/spark/python/pyspark/ml/regression.py\u001b[0m in \u001b[0;36m__init__\u001b[0;34m(self, featuresCol, labelCol, predictionCol, maxIter, regParam, elasticNetParam, tol, fitIntercept, standardization, solver, weightCol, aggregationDepth, loss, epsilon)\u001b[0m\n\u001b[1;32m    125\u001b[0m         \u001b[0mself\u001b[0m\u001b[0;34m.\u001b[0m\u001b[0m_setDefault\u001b[0m\u001b[0;34m(\u001b[0m\u001b[0mmaxIter\u001b[0m\u001b[0;34m=\u001b[0m\u001b[0;36m100\u001b[0m\u001b[0;34m,\u001b[0m \u001b[0mregParam\u001b[0m\u001b[0;34m=\u001b[0m\u001b[0;36m0.0\u001b[0m\u001b[0;34m,\u001b[0m \u001b[0mtol\u001b[0m\u001b[0;34m=\u001b[0m\u001b[0;36m1e-6\u001b[0m\u001b[0;34m,\u001b[0m \u001b[0mloss\u001b[0m\u001b[0;34m=\u001b[0m\u001b[0;34m\"squaredError\"\u001b[0m\u001b[0;34m,\u001b[0m \u001b[0mepsilon\u001b[0m\u001b[0;34m=\u001b[0m\u001b[0;36m1.35\u001b[0m\u001b[0;34m)\u001b[0m\u001b[0;34m\u001b[0m\u001b[0m\n\u001b[1;32m    126\u001b[0m         \u001b[0mkwargs\u001b[0m \u001b[0;34m=\u001b[0m \u001b[0mself\u001b[0m\u001b[0;34m.\u001b[0m\u001b[0m_input_kwargs\u001b[0m\u001b[0;34m\u001b[0m\u001b[0m\n\u001b[0;32m--> 127\u001b[0;31m         \u001b[0mself\u001b[0m\u001b[0;34m.\u001b[0m\u001b[0msetParams\u001b[0m\u001b[0;34m(\u001b[0m\u001b[0;34m**\u001b[0m\u001b[0mkwargs\u001b[0m\u001b[0;34m)\u001b[0m\u001b[0;34m\u001b[0m\u001b[0m\n\u001b[0m\u001b[1;32m    128\u001b[0m \u001b[0;34m\u001b[0m\u001b[0m\n\u001b[1;32m    129\u001b[0m     \u001b[0;34m@\u001b[0m\u001b[0mkeyword_only\u001b[0m\u001b[0;34m\u001b[0m\u001b[0m\n",
      "\u001b[0;32m/usr/local/spark/python/pyspark/__init__.py\u001b[0m in \u001b[0;36mwrapper\u001b[0;34m(self, *args, **kwargs)\u001b[0m\n\u001b[1;32m    103\u001b[0m             \u001b[0;32mraise\u001b[0m \u001b[0mTypeError\u001b[0m\u001b[0;34m(\u001b[0m\u001b[0;34m\"Method %s forces keyword arguments.\"\u001b[0m \u001b[0;34m%\u001b[0m \u001b[0mfunc\u001b[0m\u001b[0;34m.\u001b[0m\u001b[0m__name__\u001b[0m\u001b[0;34m)\u001b[0m\u001b[0;34m\u001b[0m\u001b[0m\n\u001b[1;32m    104\u001b[0m         \u001b[0mself\u001b[0m\u001b[0;34m.\u001b[0m\u001b[0m_input_kwargs\u001b[0m \u001b[0;34m=\u001b[0m \u001b[0mkwargs\u001b[0m\u001b[0;34m\u001b[0m\u001b[0m\n\u001b[0;32m--> 105\u001b[0;31m         \u001b[0;32mreturn\u001b[0m \u001b[0mfunc\u001b[0m\u001b[0;34m(\u001b[0m\u001b[0mself\u001b[0m\u001b[0;34m,\u001b[0m \u001b[0;34m**\u001b[0m\u001b[0mkwargs\u001b[0m\u001b[0;34m)\u001b[0m\u001b[0;34m\u001b[0m\u001b[0m\n\u001b[0m\u001b[1;32m    106\u001b[0m     \u001b[0;32mreturn\u001b[0m \u001b[0mwrapper\u001b[0m\u001b[0;34m\u001b[0m\u001b[0m\n\u001b[1;32m    107\u001b[0m \u001b[0;34m\u001b[0m\u001b[0m\n",
      "\u001b[0;32m/usr/local/spark/python/pyspark/ml/regression.py\u001b[0m in \u001b[0;36msetParams\u001b[0;34m(self, featuresCol, labelCol, predictionCol, maxIter, regParam, elasticNetParam, tol, fitIntercept, standardization, solver, weightCol, aggregationDepth, loss, epsilon)\u001b[0m\n\u001b[1;32m    141\u001b[0m         \"\"\"\n\u001b[1;32m    142\u001b[0m         \u001b[0mkwargs\u001b[0m \u001b[0;34m=\u001b[0m \u001b[0mself\u001b[0m\u001b[0;34m.\u001b[0m\u001b[0m_input_kwargs\u001b[0m\u001b[0;34m\u001b[0m\u001b[0m\n\u001b[0;32m--> 143\u001b[0;31m         \u001b[0;32mreturn\u001b[0m \u001b[0mself\u001b[0m\u001b[0;34m.\u001b[0m\u001b[0m_set\u001b[0m\u001b[0;34m(\u001b[0m\u001b[0;34m**\u001b[0m\u001b[0mkwargs\u001b[0m\u001b[0;34m)\u001b[0m\u001b[0;34m\u001b[0m\u001b[0m\n\u001b[0m\u001b[1;32m    144\u001b[0m \u001b[0;34m\u001b[0m\u001b[0m\n\u001b[1;32m    145\u001b[0m     \u001b[0;32mdef\u001b[0m \u001b[0m_create_model\u001b[0m\u001b[0;34m(\u001b[0m\u001b[0mself\u001b[0m\u001b[0;34m,\u001b[0m \u001b[0mjava_model\u001b[0m\u001b[0;34m)\u001b[0m\u001b[0;34m:\u001b[0m\u001b[0;34m\u001b[0m\u001b[0m\n",
      "\u001b[0;32m/usr/local/spark/python/pyspark/ml/param/__init__.py\u001b[0m in \u001b[0;36m_set\u001b[0;34m(self, **kwargs)\u001b[0m\n\u001b[1;32m    439\u001b[0m                     \u001b[0mvalue\u001b[0m \u001b[0;34m=\u001b[0m \u001b[0mp\u001b[0m\u001b[0;34m.\u001b[0m\u001b[0mtypeConverter\u001b[0m\u001b[0;34m(\u001b[0m\u001b[0mvalue\u001b[0m\u001b[0;34m)\u001b[0m\u001b[0;34m\u001b[0m\u001b[0m\n\u001b[1;32m    440\u001b[0m                 \u001b[0;32mexcept\u001b[0m \u001b[0mTypeError\u001b[0m \u001b[0;32mas\u001b[0m \u001b[0me\u001b[0m\u001b[0;34m:\u001b[0m\u001b[0;34m\u001b[0m\u001b[0m\n\u001b[0;32m--> 441\u001b[0;31m                     \u001b[0;32mraise\u001b[0m \u001b[0mTypeError\u001b[0m\u001b[0;34m(\u001b[0m\u001b[0;34m'Invalid param value given for param \"%s\". %s'\u001b[0m \u001b[0;34m%\u001b[0m \u001b[0;34m(\u001b[0m\u001b[0mp\u001b[0m\u001b[0;34m.\u001b[0m\u001b[0mname\u001b[0m\u001b[0;34m,\u001b[0m \u001b[0me\u001b[0m\u001b[0;34m)\u001b[0m\u001b[0;34m)\u001b[0m\u001b[0;34m\u001b[0m\u001b[0m\n\u001b[0m\u001b[1;32m    442\u001b[0m             \u001b[0mself\u001b[0m\u001b[0;34m.\u001b[0m\u001b[0m_paramMap\u001b[0m\u001b[0;34m[\u001b[0m\u001b[0mp\u001b[0m\u001b[0;34m]\u001b[0m \u001b[0;34m=\u001b[0m \u001b[0mvalue\u001b[0m\u001b[0;34m\u001b[0m\u001b[0m\n\u001b[1;32m    443\u001b[0m         \u001b[0;32mreturn\u001b[0m \u001b[0mself\u001b[0m\u001b[0;34m\u001b[0m\u001b[0m\n",
      "\u001b[0;31mTypeError\u001b[0m: Invalid param value given for param \"featuresCol\". Could not convert <class 'list'> to string type"
     ]
    }
   ],
   "source": [
    "lr = LinearRegression(featuresCol = ['RM', 'PTRATIO','LSTAT'], labelCol='MEDV', maxIter=10, regParam=0.3, elasticNetParam=0.8)\n",
    "lr_model = lr.fit(train_df)\n",
    "print(\"Coefficients: \" + str(lr_model.coefficients))\n",
    "print(\"Intercept: \" + str(lr_model.intercept))"
   ]
  },
  {
   "cell_type": "code",
   "execution_count": 14,
   "metadata": {},
   "outputs": [
    {
     "name": "stdout",
     "output_type": "stream",
     "text": [
      "RMSE: 87352.487652\n",
      "r2: 0.712089\n"
     ]
    }
   ],
   "source": [
    "trainingSummary = lr_model.summary\n",
    "print(\"RMSE: %f\" % trainingSummary.rootMeanSquaredError)\n",
    "print(\"r2: %f\" % trainingSummary.r2)"
   ]
  },
  {
   "cell_type": "code",
   "execution_count": 15,
   "metadata": {},
   "outputs": [
    {
     "name": "stdout",
     "output_type": "stream",
     "text": [
      "+-------+-----------------+\n",
      "|summary|             MEDV|\n",
      "+-------+-----------------+\n",
      "|  count|              387|\n",
      "|   mean|451586.8217054264|\n",
      "| stddev|163007.6660105721|\n",
      "|    min|         105000.0|\n",
      "|    max|        1024800.0|\n",
      "+-------+-----------------+\n",
      "\n"
     ]
    }
   ],
   "source": [
    "train_df.describe().show()"
   ]
  },
  {
   "cell_type": "code",
   "execution_count": 16,
   "metadata": {},
   "outputs": [
    {
     "name": "stdout",
     "output_type": "stream",
     "text": [
      "+------------------+--------+------------------+\n",
      "|        prediction|    MEDV|          features|\n",
      "+------------------+--------+------------------+\n",
      "| 76919.74061009579|184800.0|[4.368,20.2,30.63]|\n",
      "|125304.77728333254|220500.0|[4.652,20.2,28.28]|\n",
      "|117127.82628462097|214200.0| [4.88,20.2,30.62]|\n",
      "| 447978.3120163485|321300.0|[5.012,14.7,12.12]|\n",
      "|  64995.0872057993|302400.0|[5.019,21.2,34.41]|\n",
      "+------------------+--------+------------------+\n",
      "only showing top 5 rows\n",
      "\n"
     ]
    }
   ],
   "source": [
    "lr_predictions = lr_model.transform(test_df)\n",
    "lr_predictions.select(\"prediction\",\"MEDV\",\"features\").show(5)"
   ]
  },
  {
   "cell_type": "markdown",
   "metadata": {},
   "source": [
    "### Test Evaluation"
   ]
  },
  {
   "cell_type": "code",
   "execution_count": 17,
   "metadata": {},
   "outputs": [
    {
     "name": "stdout",
     "output_type": "stream",
     "text": [
      "R Squared (R2) on test data = 0.731085\n"
     ]
    }
   ],
   "source": [
    "lr_evaluator = RegressionEvaluator(predictionCol=\"prediction\", \\\n",
    "                 labelCol=\"MEDV\",metricName=\"r2\")\n",
    "print(\"R Squared (R2) on test data = %g\" % lr_evaluator.evaluate(lr_predictions))"
   ]
  },
  {
   "cell_type": "code",
   "execution_count": 18,
   "metadata": {},
   "outputs": [
    {
     "name": "stdout",
     "output_type": "stream",
     "text": [
      "Root Mean Squared Error (RMSE) on test data = 89965.1\n"
     ]
    }
   ],
   "source": [
    "test_result = lr_model.evaluate(test_df)\n",
    "print(\"Root Mean Squared Error (RMSE) on test data = %g\" % test_result.rootMeanSquaredError)"
   ]
  },
  {
   "cell_type": "markdown",
   "metadata": {},
   "source": [
    "### Decision tree regression"
   ]
  },
  {
   "cell_type": "code",
   "execution_count": 33,
   "metadata": {},
   "outputs": [
    {
     "name": "stdout",
     "output_type": "stream",
     "text": [
      "Root Mean Squared Error (RMSE) on test data = 86634.9\n"
     ]
    }
   ],
   "source": [
    "from pyspark.ml.regression import DecisionTreeRegressor\n",
    "\n",
    "dt = DecisionTreeRegressor(featuresCol ='features', labelCol = 'MEDV')\n",
    "dt_model = dt.fit(train_df)\n",
    "dt_predictions = dt_model.transform(test_df)\n",
    "dt_evaluator = RegressionEvaluator(\n",
    "    labelCol=\"MEDV\", predictionCol=\"prediction\", metricName=\"rmse\")\n",
    "rmse = dt_evaluator.evaluate(dt_predictions)\n",
    "print(\"Root Mean Squared Error (RMSE) on test data = %g\" % rmse)"
   ]
  },
  {
   "cell_type": "code",
   "execution_count": 34,
   "metadata": {},
   "outputs": [
    {
     "name": "stdout",
     "output_type": "stream",
     "text": [
      "+-----------------+--------+------------------+\n",
      "|       prediction|    MEDV|          features|\n",
      "+-----------------+--------+------------------+\n",
      "|439090.9090909091|577500.0| [3.561,20.2,7.12]|\n",
      "|         204600.0|184800.0|[4.368,20.2,30.63]|\n",
      "|         204600.0|375900.0|[4.628,20.2,34.37]|\n",
      "|         322140.0|247800.0|[4.903,14.7,29.29]|\n",
      "|         204600.0|289800.0|[4.906,20.2,34.77]|\n",
      "+-----------------+--------+------------------+\n",
      "only showing top 5 rows\n",
      "\n"
     ]
    }
   ],
   "source": [
    "dt_predictions.select(\"prediction\",\"MEDV\",\"features\").show(5)"
   ]
  }
 ],
 "metadata": {
  "kernelspec": {
   "display_name": "Python 3",
   "language": "python",
   "name": "python3"
  },
  "language_info": {
   "codemirror_mode": {
    "name": "ipython",
    "version": 3
   },
   "file_extension": ".py",
   "mimetype": "text/x-python",
   "name": "python",
   "nbconvert_exporter": "python",
   "pygments_lexer": "ipython3",
   "version": "3.6.3"
  }
 },
 "nbformat": 4,
 "nbformat_minor": 2
}
