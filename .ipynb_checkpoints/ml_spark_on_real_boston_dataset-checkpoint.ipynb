{
 "cells": [
  {
   "cell_type": "code",
   "execution_count": 1,
   "metadata": {},
   "outputs": [],
   "source": [
    "df = spark.read.options(header=True,inferSchema=True)\\\n",
    "            .csv(\"hdfs://localhost:9000/user/local/hadoop_tmp/hdfs/data/boston/realboston_train.csv\")"
   ]
  },
  {
   "cell_type": "code",
   "execution_count": 2,
   "metadata": {},
   "outputs": [
    {
     "data": {
      "text/html": [
       "<div>\n",
       "<style scoped>\n",
       "    .dataframe tbody tr th:only-of-type {\n",
       "        vertical-align: middle;\n",
       "    }\n",
       "\n",
       "    .dataframe tbody tr th {\n",
       "        vertical-align: top;\n",
       "    }\n",
       "\n",
       "    .dataframe thead th {\n",
       "        text-align: right;\n",
       "    }\n",
       "</style>\n",
       "<table border=\"1\" class=\"dataframe\">\n",
       "  <thead>\n",
       "    <tr style=\"text-align: right;\">\n",
       "      <th></th>\n",
       "      <th>summary</th>\n",
       "      <th>Id</th>\n",
       "      <th>MSSubClass</th>\n",
       "      <th>MSZoning</th>\n",
       "      <th>LotFrontage</th>\n",
       "      <th>LotArea</th>\n",
       "      <th>Street</th>\n",
       "      <th>Alley</th>\n",
       "      <th>LotShape</th>\n",
       "      <th>LandContour</th>\n",
       "      <th>...</th>\n",
       "      <th>PoolArea</th>\n",
       "      <th>PoolQC</th>\n",
       "      <th>Fence</th>\n",
       "      <th>MiscFeature</th>\n",
       "      <th>MiscVal</th>\n",
       "      <th>MoSold</th>\n",
       "      <th>YrSold</th>\n",
       "      <th>SaleType</th>\n",
       "      <th>SaleCondition</th>\n",
       "      <th>SalePrice</th>\n",
       "    </tr>\n",
       "  </thead>\n",
       "  <tbody>\n",
       "    <tr>\n",
       "      <th>0</th>\n",
       "      <td>count</td>\n",
       "      <td>1460</td>\n",
       "      <td>1460</td>\n",
       "      <td>1460</td>\n",
       "      <td>1460</td>\n",
       "      <td>1460</td>\n",
       "      <td>1460</td>\n",
       "      <td>1460</td>\n",
       "      <td>1460</td>\n",
       "      <td>1460</td>\n",
       "      <td>...</td>\n",
       "      <td>1460</td>\n",
       "      <td>1460</td>\n",
       "      <td>1460</td>\n",
       "      <td>1460</td>\n",
       "      <td>1460</td>\n",
       "      <td>1460</td>\n",
       "      <td>1460</td>\n",
       "      <td>1460</td>\n",
       "      <td>1460</td>\n",
       "      <td>1460</td>\n",
       "    </tr>\n",
       "    <tr>\n",
       "      <th>1</th>\n",
       "      <td>mean</td>\n",
       "      <td>730.5</td>\n",
       "      <td>56.897260273972606</td>\n",
       "      <td>None</td>\n",
       "      <td>70.04995836802665</td>\n",
       "      <td>10516.828082191782</td>\n",
       "      <td>None</td>\n",
       "      <td>None</td>\n",
       "      <td>None</td>\n",
       "      <td>None</td>\n",
       "      <td>...</td>\n",
       "      <td>2.758904109589041</td>\n",
       "      <td>None</td>\n",
       "      <td>None</td>\n",
       "      <td>None</td>\n",
       "      <td>43.489041095890414</td>\n",
       "      <td>6.321917808219178</td>\n",
       "      <td>2007.8157534246575</td>\n",
       "      <td>None</td>\n",
       "      <td>None</td>\n",
       "      <td>180921.19589041095</td>\n",
       "    </tr>\n",
       "    <tr>\n",
       "      <th>2</th>\n",
       "      <td>stddev</td>\n",
       "      <td>421.6100093688479</td>\n",
       "      <td>42.30057099381045</td>\n",
       "      <td>None</td>\n",
       "      <td>24.28475177448321</td>\n",
       "      <td>9981.26493237915</td>\n",
       "      <td>None</td>\n",
       "      <td>None</td>\n",
       "      <td>None</td>\n",
       "      <td>None</td>\n",
       "      <td>...</td>\n",
       "      <td>40.17730694453021</td>\n",
       "      <td>None</td>\n",
       "      <td>None</td>\n",
       "      <td>None</td>\n",
       "      <td>496.1230244579441</td>\n",
       "      <td>2.7036262083595113</td>\n",
       "      <td>1.3280951205521145</td>\n",
       "      <td>None</td>\n",
       "      <td>None</td>\n",
       "      <td>79442.50288288663</td>\n",
       "    </tr>\n",
       "    <tr>\n",
       "      <th>3</th>\n",
       "      <td>min</td>\n",
       "      <td>1</td>\n",
       "      <td>20</td>\n",
       "      <td>C (all)</td>\n",
       "      <td>100</td>\n",
       "      <td>1300</td>\n",
       "      <td>Grvl</td>\n",
       "      <td>Grvl</td>\n",
       "      <td>IR1</td>\n",
       "      <td>Bnk</td>\n",
       "      <td>...</td>\n",
       "      <td>0</td>\n",
       "      <td>Ex</td>\n",
       "      <td>GdPrv</td>\n",
       "      <td>Gar2</td>\n",
       "      <td>0</td>\n",
       "      <td>1</td>\n",
       "      <td>2006</td>\n",
       "      <td>COD</td>\n",
       "      <td>Abnorml</td>\n",
       "      <td>34900</td>\n",
       "    </tr>\n",
       "    <tr>\n",
       "      <th>4</th>\n",
       "      <td>max</td>\n",
       "      <td>1460</td>\n",
       "      <td>190</td>\n",
       "      <td>RM</td>\n",
       "      <td>NA</td>\n",
       "      <td>215245</td>\n",
       "      <td>Pave</td>\n",
       "      <td>Pave</td>\n",
       "      <td>Reg</td>\n",
       "      <td>Lvl</td>\n",
       "      <td>...</td>\n",
       "      <td>738</td>\n",
       "      <td>NA</td>\n",
       "      <td>NA</td>\n",
       "      <td>TenC</td>\n",
       "      <td>15500</td>\n",
       "      <td>12</td>\n",
       "      <td>2010</td>\n",
       "      <td>WD</td>\n",
       "      <td>Partial</td>\n",
       "      <td>755000</td>\n",
       "    </tr>\n",
       "  </tbody>\n",
       "</table>\n",
       "<p>5 rows × 82 columns</p>\n",
       "</div>"
      ],
      "text/plain": [
       "  summary                 Id          MSSubClass MSZoning        LotFrontage  \\\n",
       "0   count               1460                1460     1460               1460   \n",
       "1    mean              730.5  56.897260273972606     None  70.04995836802665   \n",
       "2  stddev  421.6100093688479   42.30057099381045     None  24.28475177448321   \n",
       "3     min                  1                  20  C (all)                100   \n",
       "4     max               1460                 190       RM                 NA   \n",
       "\n",
       "              LotArea Street Alley LotShape LandContour         ...          \\\n",
       "0                1460   1460  1460     1460        1460         ...           \n",
       "1  10516.828082191782   None  None     None        None         ...           \n",
       "2    9981.26493237915   None  None     None        None         ...           \n",
       "3                1300   Grvl  Grvl      IR1         Bnk         ...           \n",
       "4              215245   Pave  Pave      Reg         Lvl         ...           \n",
       "\n",
       "            PoolArea PoolQC  Fence MiscFeature             MiscVal  \\\n",
       "0               1460   1460   1460        1460                1460   \n",
       "1  2.758904109589041   None   None        None  43.489041095890414   \n",
       "2  40.17730694453021   None   None        None   496.1230244579441   \n",
       "3                  0     Ex  GdPrv        Gar2                   0   \n",
       "4                738     NA     NA        TenC               15500   \n",
       "\n",
       "               MoSold              YrSold SaleType SaleCondition  \\\n",
       "0                1460                1460     1460          1460   \n",
       "1   6.321917808219178  2007.8157534246575     None          None   \n",
       "2  2.7036262083595113  1.3280951205521145     None          None   \n",
       "3                   1                2006      COD       Abnorml   \n",
       "4                  12                2010       WD       Partial   \n",
       "\n",
       "            SalePrice  \n",
       "0                1460  \n",
       "1  180921.19589041095  \n",
       "2   79442.50288288663  \n",
       "3               34900  \n",
       "4              755000  \n",
       "\n",
       "[5 rows x 82 columns]"
      ]
     },
     "execution_count": 2,
     "metadata": {},
     "output_type": "execute_result"
    }
   ],
   "source": [
    "df.describe().toPandas()"
   ]
  },
  {
   "cell_type": "code",
   "execution_count": 3,
   "metadata": {},
   "outputs": [
    {
     "name": "stdout",
     "output_type": "stream",
     "text": [
      "['Id', 'MSSubClass', 'LotArea', 'OverallQual', 'OverallCond', 'YearBuilt', 'YearRemodAdd', 'BsmtFinSF1', 'BsmtFinSF2', 'BsmtUnfSF', 'TotalBsmtSF', '1stFlrSF', '2ndFlrSF', 'LowQualFinSF', 'GrLivArea', 'BsmtFullBath', 'BsmtHalfBath', 'FullBath', 'HalfBath', 'BedroomAbvGr', 'KitchenAbvGr', 'TotRmsAbvGrd', 'Fireplaces', 'GarageCars', 'GarageArea', 'WoodDeckSF', 'OpenPorchSF', 'EnclosedPorch', '3SsnPorch', 'ScreenPorch', 'PoolArea', 'MiscVal', 'MoSold', 'YrSold', 'SalePrice']\n"
     ]
    }
   ],
   "source": [
    "columnList = [item[0] for item in df.dtypes if not item[1].startswith('string')]\n",
    "print(columnList)"
   ]
  },
  {
   "cell_type": "code",
   "execution_count": 5,
   "metadata": {},
   "outputs": [],
   "source": [
    "df_numberic = df.select(columnList)"
   ]
  },
  {
   "cell_type": "code",
   "execution_count": 6,
   "metadata": {},
   "outputs": [
    {
     "name": "stdout",
     "output_type": "stream",
     "text": [
      "Correlation to SalePrice for  OverallQual 0.7909816005838053\n",
      "Correlation to SalePrice for  YearBuilt 0.522897332879497\n",
      "Correlation to SalePrice for  YearRemodAdd 0.5071009671113869\n",
      "Correlation to SalePrice for  TotalBsmtSF 0.6135805515591942\n",
      "Correlation to SalePrice for  1stFlrSF 0.6058521846919153\n",
      "Correlation to SalePrice for  GrLivArea 0.7086244776126517\n",
      "Correlation to SalePrice for  FullBath 0.5606637627484453\n",
      "Correlation to SalePrice for  TotRmsAbvGrd 0.5337231555820284\n",
      "Correlation to SalePrice for  GarageCars 0.6404091972583519\n",
      "Correlation to SalePrice for  GarageArea 0.6234314389183622\n",
      "Correlation to SalePrice for  SalePrice 1.0\n"
     ]
    }
   ],
   "source": [
    "import six\n",
    "validColumn = []\n",
    "for i in df_numberic.columns:\n",
    "    if not( isinstance(df_numberic.select(i).take(1)[0][0], six.string_types)):\n",
    "        if (df_numberic.stat.corr('SalePrice',i) > 0.5):\n",
    "            validColumn.append(i)\n",
    "            print( \"Correlation to SalePrice for \", i, df_numberic.stat.corr('SalePrice',i))"
   ]
  },
  {
   "cell_type": "code",
   "execution_count": 13,
   "metadata": {},
   "outputs": [
    {
     "name": "stdout",
     "output_type": "stream",
     "text": [
      "['OverallQual', 'YearBuilt', 'YearRemodAdd', 'TotalBsmtSF', '1stFlrSF', 'GrLivArea', 'FullBath', 'TotRmsAbvGrd', 'GarageCars', 'GarageArea', 'SalePrice']\n"
     ]
    }
   ],
   "source": [
    "print(validColumn)"
   ]
  },
  {
   "cell_type": "code",
   "execution_count": 7,
   "metadata": {},
   "outputs": [],
   "source": [
    "df_valid = df_numberic.select(validColumn)"
   ]
  },
  {
   "cell_type": "code",
   "execution_count": 8,
   "metadata": {},
   "outputs": [
    {
     "name": "stdout",
     "output_type": "stream",
     "text": [
      "+--------------------+---------+\n",
      "|            features|SalePrice|\n",
      "+--------------------+---------+\n",
      "|[7.0,2003.0,2003....|   208500|\n",
      "|[6.0,1976.0,1976....|   181500|\n",
      "|[7.0,2001.0,2002....|   223500|\n",
      "|[7.0,1915.0,1970....|   140000|\n",
      "|[8.0,2000.0,2000....|   250000|\n",
      "+--------------------+---------+\n",
      "only showing top 5 rows\n",
      "\n"
     ]
    }
   ],
   "source": [
    "from pyspark.ml.feature import VectorAssembler\n",
    "vectorAssembler = VectorAssembler(inputCols = ['OverallQual', 'YearBuilt', 'YearRemodAdd', 'TotalBsmtSF', '1stFlrSF', 'GrLivArea', 'FullBath', 'TotRmsAbvGrd', 'GarageCars', 'GarageArea'], outputCol = 'features')\n",
    "vhouse_df = vectorAssembler.transform(df_valid)\n",
    "vhouse_df = vhouse_df.select(['features', 'SalePrice'])\n",
    "vhouse_df.show(5)"
   ]
  },
  {
   "cell_type": "code",
   "execution_count": 9,
   "metadata": {},
   "outputs": [],
   "source": [
    "from pyspark.ml.regression import LinearRegression\n",
    "from pyspark.ml.evaluation import RegressionEvaluator\n",
    "from pyspark.ml.tuning import ParamGridBuilder, TrainValidationSplit , CrossValidator"
   ]
  },
  {
   "cell_type": "code",
   "execution_count": 11,
   "metadata": {},
   "outputs": [],
   "source": [
    "regParam = [x / 100.0 for x in range(1, 11)]\n",
    "elasticNetParam = [x / 10.0 for x in range(0, 10)]\n",
    "maxIter = [10,20,30]"
   ]
  },
  {
   "cell_type": "code",
   "execution_count": 12,
   "metadata": {},
   "outputs": [],
   "source": [
    "train_df, test_df = vhouse_df.randomSplit([0.8, 0.2], seed=12345)"
   ]
  },
  {
   "cell_type": "code",
   "execution_count": 13,
   "metadata": {},
   "outputs": [],
   "source": [
    "lr = LinearRegression(featuresCol = 'features', labelCol='SalePrice')"
   ]
  },
  {
   "cell_type": "code",
   "execution_count": 14,
   "metadata": {},
   "outputs": [],
   "source": [
    "paramGrid = ParamGridBuilder()\\\n",
    "    .addGrid(lr.maxIter, maxIter) \\\n",
    "    .addGrid(lr.regParam, regParam) \\\n",
    "    .addGrid(lr.fitIntercept, [False, True])\\\n",
    "    .addGrid(lr.elasticNetParam, elasticNetParam)\\\n",
    "    .build()"
   ]
  },
  {
   "cell_type": "code",
   "execution_count": 15,
   "metadata": {},
   "outputs": [],
   "source": [
    "cv = CrossValidator(estimator=lr,\n",
    "                           estimatorParamMaps=paramGrid,\n",
    "                           evaluator=RegressionEvaluator(predictionCol=\"prediction\", \\\n",
    "                                 labelCol=\"SalePrice\",metricName=\"r2\"),\n",
    "                           # 80% of the data will be used for training, 20% for validation.\n",
    "                           numFolds=4)"
   ]
  },
  {
   "cell_type": "code",
   "execution_count": 16,
   "metadata": {},
   "outputs": [
    {
     "name": "stdout",
     "output_type": "stream",
     "text": [
      "Max iteration  : 20 \n",
      "Reg  : 0.07 \n",
      "Elastic net Param : 0.6 \n",
      "r2 : 0.80306 \n",
      "RMSE : 35962.4 \n"
     ]
    }
   ],
   "source": [
    "model_cv = cv.fit(train_df)\n",
    "print(\"Max iteration  : %g \" %model_cv.bestModel._java_obj.getMaxIter())\n",
    "print(\"Reg  : %g \" %model_cv.bestModel._java_obj.getRegParam())\n",
    "print(\"Elastic net Param : %g \" %model_cv.bestModel._java_obj.getElasticNetParam())\n",
    "print(\"r2 : %g \" % model_cv.bestModel.summary.r2)\n",
    "print(\"RMSE : %g \" % model_cv.bestModel.summary.rootMeanSquaredError)"
   ]
  },
  {
   "cell_type": "code",
   "execution_count": 17,
   "metadata": {},
   "outputs": [],
   "source": [
    "tvs = TrainValidationSplit(estimator=lr,\n",
    "                           estimatorParamMaps=paramGrid,\n",
    "                           evaluator=RegressionEvaluator(predictionCol=\"prediction\", \\\n",
    "                                 labelCol=\"SalePrice\",metricName=\"r2\"),\n",
    "                           # 80% of the data will be used for training, 20% for validation.\n",
    "                           trainRatio=0.8)"
   ]
  },
  {
   "cell_type": "code",
   "execution_count": 18,
   "metadata": {},
   "outputs": [
    {
     "name": "stdout",
     "output_type": "stream",
     "text": [
      "Max iteration  : 10 \n",
      "Reg  : 0.1 \n",
      "Elastic net Param : 0.9 \n",
      "r2 : 0.799356 \n",
      "RMSE : 36299 \n"
     ]
    }
   ],
   "source": [
    "model_tvs = tvs.fit(train_df)\n",
    "print(\"Max iteration  : %g \" %model_tvs.bestModel._java_obj.getMaxIter())\n",
    "print(\"Reg  : %g \" %model_tvs.bestModel._java_obj.getRegParam())\n",
    "print(\"Elastic net Param : %g \" %model_tvs.bestModel._java_obj.getElasticNetParam())\n",
    "print(\"r2 : %g \" % model_tvs.bestModel.summary.r2)\n",
    "print(\"RMSE : %g \" % model_tvs.bestModel.summary.rootMeanSquaredError)"
   ]
  }
 ],
 "metadata": {
  "kernelspec": {
   "display_name": "Python 3",
   "language": "python",
   "name": "python3"
  },
  "language_info": {
   "codemirror_mode": {
    "name": "ipython",
    "version": 3
   },
   "file_extension": ".py",
   "mimetype": "text/x-python",
   "name": "python",
   "nbconvert_exporter": "python",
   "pygments_lexer": "ipython3",
   "version": "3.6.3"
  }
 },
 "nbformat": 4,
 "nbformat_minor": 2
}
